{
 "cells": [
  {
   "cell_type": "code",
   "execution_count": 1,
   "id": "64acc65c-7291-49ff-8019-35f0b1e843b0",
   "metadata": {},
   "outputs": [],
   "source": [
    "import numpy as np\n",
    "import pandas as pd\n",
    "import cv2"
   ]
  },
  {
   "cell_type": "markdown",
   "id": "0827b6d0-f3b8-4297-9279-32341e810321",
   "metadata": {},
   "source": [
    "## Preprocessing"
   ]
  },
  {
   "cell_type": "code",
   "execution_count": 9,
   "id": "8e6544ac-d3ca-40d0-b292-f23577ea9404",
   "metadata": {
    "scrolled": true
   },
   "outputs": [],
   "source": [
    "# import dataset and extract RGB values along with numpy data inclusion\n",
    "\n",
    "data = pd.read_csv(\"Custom_Butterfly_Training_Set1.csv\")\n",
    "image_addresses = []\n",
    "for i in range(176):\n",
    "    image_addresses.append(\"train_move/\" + data[\"filename\"][i])\n",
    "X_train = np.zeros((150528,176))\n",
    "for i in range(len(image_addresses)):\n",
    "    image_data = cv2.imread(image_addresses[i]) # 244 x 244 x 3\n",
    "    # print(image_data.shape)\n",
    "    # Stacking R-G-B values of each image in a column\n",
    "    red_stack = image_data[:,:,2].flatten()\n",
    "    green_stack = image_data[:,:,1].flatten()\n",
    "    blue_stack = image_data[:,:,0].flatten()\n",
    "    stacked_array = np.hstack((red_stack, green_stack, blue_stack))\n",
    "    X_train[:,i] = stacked_array\n",
    "\n",
    "df = pd.DataFrame(X_train)\n",
    "df.to_csv(\"train_176_images.csv\")\n",
    "# Similary test data set can also be made\n"
   ]
  }
 ],
 "metadata": {
  "kernelspec": {
   "display_name": "Python 3 (ipykernel)",
   "language": "python",
   "name": "python3"
  },
  "language_info": {
   "codemirror_mode": {
    "name": "ipython",
    "version": 3
   },
   "file_extension": ".py",
   "mimetype": "text/x-python",
   "name": "python",
   "nbconvert_exporter": "python",
   "pygments_lexer": "ipython3",
   "version": "3.10.13"
  }
 },
 "nbformat": 4,
 "nbformat_minor": 5
}
